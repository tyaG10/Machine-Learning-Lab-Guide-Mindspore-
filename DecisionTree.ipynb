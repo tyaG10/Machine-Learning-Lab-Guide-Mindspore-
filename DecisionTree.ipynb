{
 "cells": [
  {
   "cell_type": "code",
   "execution_count": 1,
   "id": "42441072",
   "metadata": {},
   "outputs": [],
   "source": [
    "import pandas as pd\n",
    "import numpy as np\n",
    "from sklearn import tree\n",
    "import pydotplus"
   ]
  },
  {
   "cell_type": "code",
   "execution_count": 5,
   "id": "94df9dd9",
   "metadata": {},
   "outputs": [],
   "source": [
    "# Generate a decision tree.\n",
    "def createTree(trainingData):\n",
    " data = trainingData.iloc[:, :-1] # Feature matrix\n",
    " labels = trainingData.iloc[:, -1] # Labels\n",
    " trainedTree = tree.DecisionTreeClassifier(criterion=\"entropy\") # Decision tree classifier\n",
    " trainedTree.fit(data, labels) # Train the model.\n",
    " return trainedTree"
   ]
  },
  {
   "cell_type": "code",
   "execution_count": 6,
   "id": "c3cf937b",
   "metadata": {},
   "outputs": [],
   "source": [
    "def showtree2pdf(trainedTree,finename):\n",
    " dot_data = tree.export_graphviz(trainedTree, out_file=None) # Export the tree in Graphviz format.\n",
    " graph = pydotplus.graph_from_dot_data(dot_data)\n",
    " graph.write_pdf(finename) # Save the tree diagram to the local machine in PDF format"
   ]
  },
  {
   "cell_type": "code",
   "execution_count": 7,
   "id": "0aa847ee",
   "metadata": {},
   "outputs": [],
   "source": [
    "def data2vectoc(data):\n",
    " names = data.columns[:-1]\n",
    " for i in names:\n",
    "     col = pd.Categorical(data[i])\n",
    "     data[i] = col.codes\n",
    " return data"
   ]
  },
  {
   "cell_type": "code",
   "execution_count": 8,
   "id": "008dc208",
   "metadata": {},
   "outputs": [],
   "source": [
    "# Invoke the function for prediction\n",
    "data = pd.read_table(\"C:/Users/DELL/Documents/HCIA/HCIA-AI V3.5/X-Experiment-Guide/1. Machine Learning Lab Guide/ML/ML/tennis.txt\", header=None, sep='\\t') # Read training data.\n",
    "trainingvec=data2vectoc(data) # Vectorize data.\n",
    "decisionTree=createTree(trainingvec) # Create a decision tree.\n",
    "showtree2pdf(decisionTree,\"tennis.pdf\") # Plot the decision tree."
   ]
  },
  {
   "cell_type": "code",
   "execution_count": 51,
   "id": "1a71fd7a",
   "metadata": {},
   "outputs": [
    {
     "name": "stdout",
     "output_type": "stream",
     "text": [
      "['Y']\n"
     ]
    }
   ],
   "source": [
    "# Predict a new sample\n",
    "testVec = [0,0,1,1] # Weather is sunny, temperature is low, humidity is high, and wind is strong.\n",
    "print(decisionTree.predict(np.array(testVec).reshape(1,-1))) # Predict."
   ]
  }
 ],
 "metadata": {
  "kernelspec": {
   "display_name": "Python (mon_env: mindspore)",
   "language": "python",
   "name": "mindspore"
  },
  "language_info": {
   "codemirror_mode": {
    "name": "ipython",
    "version": 3
   },
   "file_extension": ".py",
   "mimetype": "text/x-python",
   "name": "python",
   "nbconvert_exporter": "python",
   "pygments_lexer": "ipython3",
   "version": "3.7.12"
  }
 },
 "nbformat": 4,
 "nbformat_minor": 5
}
